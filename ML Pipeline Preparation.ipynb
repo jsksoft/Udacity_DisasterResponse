{
 "cells": [
  {
   "cell_type": "markdown",
   "metadata": {},
   "source": [
    "# ML Pipeline Preparation\n",
    "Follow the instructions below to help you create your ML pipeline.\n",
    "### 1. Import libraries and load data from database.\n",
    "- Import Python libraries\n",
    "- Load dataset from database with [`read_sql_table`](https://pandas.pydata.org/pandas-docs/stable/generated/pandas.read_sql_table.html)\n",
    "- Define feature and target variables X and Y"
   ]
  },
  {
   "cell_type": "code",
   "execution_count": 1,
   "metadata": {},
   "outputs": [
    {
     "name": "stdout",
     "output_type": "stream",
     "text": [
      "[nltk_data] Downloading package punkt to /root/nltk_data...\n",
      "[nltk_data]   Package punkt is already up-to-date!\n",
      "[nltk_data] Downloading package wordnet to /root/nltk_data...\n",
      "[nltk_data]   Package wordnet is already up-to-date!\n"
     ]
    }
   ],
   "source": [
    "# import libraries\n",
    "import pandas as pd\n",
    "from sqlalchemy import create_engine\n",
    "import re\n",
    "\n",
    "import nltk\n",
    "nltk.download(['punkt', 'wordnet'])\n",
    "from nltk.tokenize import word_tokenize\n",
    "from nltk.stem import WordNetLemmatizer\n",
    "\n",
    "from sklearn.pipeline import Pipeline\n",
    "from sklearn.model_selection import train_test_split\n",
    "from sklearn.multioutput import MultiOutputClassifier\n",
    "from sklearn.ensemble import RandomForestClassifier\n",
    "from sklearn.feature_extraction.text import CountVectorizer, TfidfTransformer\n",
    "from sklearn.metrics import classification_report\n",
    "from sklearn.model_selection import GridSearchCV"
   ]
  },
  {
   "cell_type": "code",
   "execution_count": 2,
   "metadata": {},
   "outputs": [],
   "source": [
    "# load data from database\n",
    "engine = create_engine('sqlite:///DisasterResponse.db')\n",
    "df = pd.read_sql(\"SELECT * FROM DisasterResponseMessages\", engine)\n",
    "X = df['message']\n",
    "Y = df.drop(['id', 'message', 'original', 'genre'], axis = 1)"
   ]
  },
  {
   "cell_type": "markdown",
   "metadata": {},
   "source": [
    "### 2. Write a tokenization function to process your text data"
   ]
  },
  {
   "cell_type": "code",
   "execution_count": 3,
   "metadata": {},
   "outputs": [],
   "source": [
    "def tokenize(text):\n",
    "    # remove punctuation and use lowercase letters\n",
    "    text = re.sub(r\"[^a-zA-Z0-9]\", \" \", text.lower())\n",
    "    # tokentize words\n",
    "    tokens = word_tokenize(text)\n",
    "    # create word lemmatizer\n",
    "    lemmatizer = WordNetLemmatizer()\n",
    "    \n",
    "    # lemmatize words\n",
    "    clean_tokens = []\n",
    "    for tok in tokens:\n",
    "        clean_tok = lemmatizer.lemmatize(tok).strip()\n",
    "        clean_tokens.append(clean_tok)\n",
    "\n",
    "    return clean_tokens"
   ]
  },
  {
   "cell_type": "markdown",
   "metadata": {},
   "source": [
    "### 3. Build a machine learning pipeline\n",
    "This machine pipeline should take in the `message` column as input and output classification results on the other 36 categories in the dataset. You may find the [MultiOutputClassifier](http://scikit-learn.org/stable/modules/generated/sklearn.multioutput.MultiOutputClassifier.html) helpful for predicting multiple target variables."
   ]
  },
  {
   "cell_type": "code",
   "execution_count": 4,
   "metadata": {},
   "outputs": [],
   "source": [
    "# create pipeline\n",
    "pipeline = Pipeline([\n",
    "    ('vect', CountVectorizer(tokenizer=tokenize)),\n",
    "    ('tfidf', TfidfTransformer()),\n",
    "    ('clf', MultiOutputClassifier(RandomForestClassifier()))\n",
    "])"
   ]
  },
  {
   "cell_type": "markdown",
   "metadata": {},
   "source": [
    "### 4. Train pipeline\n",
    "- Split data into train and test sets\n",
    "- Train pipeline"
   ]
  },
  {
   "cell_type": "code",
   "execution_count": 5,
   "metadata": {},
   "outputs": [
    {
     "data": {
      "text/plain": [
       "Pipeline(memory=None,\n",
       "     steps=[('vect', CountVectorizer(analyzer='word', binary=False, decode_error='strict',\n",
       "        dtype=<class 'numpy.int64'>, encoding='utf-8', input='content',\n",
       "        lowercase=True, max_df=1.0, max_features=None, min_df=1,\n",
       "        ngram_range=(1, 1), preprocessor=None, stop_words=None,\n",
       "        strip...oob_score=False, random_state=None, verbose=0,\n",
       "            warm_start=False),\n",
       "           n_jobs=1))])"
      ]
     },
     "execution_count": 5,
     "metadata": {},
     "output_type": "execute_result"
    }
   ],
   "source": [
    "# split data into train and test sets (using random state to get always the same data)\n",
    "X_train, X_test, y_train, y_test = train_test_split(X, Y, random_state=42)\n",
    "# train classifier\n",
    "pipeline.fit(X_train, y_train)"
   ]
  },
  {
   "cell_type": "markdown",
   "metadata": {},
   "source": [
    "### 5. Test your model\n",
    "Report the f1 score, precision and recall for each output category of the dataset. You can do this by iterating through the columns and calling sklearn's `classification_report` on each."
   ]
  },
  {
   "cell_type": "code",
   "execution_count": 6,
   "metadata": {},
   "outputs": [
    {
     "name": "stdout",
     "output_type": "stream",
     "text": [
      "\n",
      "                         precision    recall  f1-score   support\n",
      "\n",
      "               related       0.82      0.93      0.87      5001\n",
      "               request       0.84      0.38      0.53      1093\n",
      "                 offer       0.00      0.00      0.00        32\n",
      "           aid_related       0.74      0.54      0.63      2700\n",
      "          medical_help       0.58      0.09      0.15       532\n",
      "      medical_products       0.68      0.08      0.15       345\n",
      "     search_and_rescue       0.67      0.11      0.19       165\n",
      "              security       0.00      0.00      0.00       127\n",
      "              military       0.47      0.04      0.07       197\n",
      "           child_alone       0.00      0.00      0.00         0\n",
      "                 water       0.81      0.22      0.34       408\n",
      "                  food       0.81      0.37      0.51       723\n",
      "               shelter       0.80      0.27      0.41       590\n",
      "              clothing       0.85      0.12      0.20        95\n",
      "                 money       0.62      0.06      0.11       138\n",
      "        missing_people       0.00      0.00      0.00        74\n",
      "              refugees       0.60      0.05      0.10       223\n",
      "                 death       0.75      0.10      0.18       301\n",
      "             other_aid       0.51      0.03      0.05       865\n",
      "infrastructure_related       0.20      0.00      0.00       410\n",
      "             transport       0.62      0.07      0.13       288\n",
      "             buildings       0.69      0.07      0.12       331\n",
      "           electricity       0.89      0.06      0.10       144\n",
      "                 tools       0.00      0.00      0.00        46\n",
      "             hospitals       0.00      0.00      0.00        60\n",
      "                 shops       0.00      0.00      0.00        29\n",
      "           aid_centers       0.00      0.00      0.00        77\n",
      "  other_infrastructure       0.25      0.00      0.01       277\n",
      "       weather_related       0.83      0.54      0.65      1816\n",
      "                floods       0.87      0.32      0.47       546\n",
      "                 storm       0.74      0.36      0.48       596\n",
      "                  fire       0.80      0.06      0.11        67\n",
      "            earthquake       0.90      0.69      0.78       630\n",
      "                  cold       0.75      0.07      0.13       122\n",
      "         other_weather       0.67      0.03      0.05       319\n",
      "         direct_report       0.77      0.31      0.44      1265\n",
      "\n",
      "           avg / total       0.73      0.46      0.51     20632\n",
      "\n"
     ]
    },
    {
     "name": "stderr",
     "output_type": "stream",
     "text": [
      "/opt/conda/lib/python3.6/site-packages/sklearn/metrics/classification.py:1135: UndefinedMetricWarning: Precision and F-score are ill-defined and being set to 0.0 in labels with no predicted samples.\n",
      "  'precision', 'predicted', average, warn_for)\n",
      "/opt/conda/lib/python3.6/site-packages/sklearn/metrics/classification.py:1137: UndefinedMetricWarning: Recall and F-score are ill-defined and being set to 0.0 in labels with no true samples.\n",
      "  'recall', 'true', average, warn_for)\n"
     ]
    }
   ],
   "source": [
    "# predict\n",
    "y_pred = pipeline.predict(X_test)\n",
    "\n",
    "# print report using sklearn classification_report\n",
    "print('\\n', classification_report(y_test, y_pred, target_names=Y.columns.values))"
   ]
  },
  {
   "cell_type": "markdown",
   "metadata": {},
   "source": [
    "### 6. Improve your model\n",
    "Use grid search to find better parameters. "
   ]
  },
  {
   "cell_type": "code",
   "execution_count": 7,
   "metadata": {},
   "outputs": [],
   "source": [
    "parameters =  {\n",
    "        'vect__max_df': (0.5, 1.0),\n",
    "        'tfidf__use_idf': (True, False),\n",
    "        'clf__estimator__max_features': ['auto', 'sqrt'],\n",
    "        'clf__estimator__max_depth': [5,10, 20,None]\n",
    "        }\n",
    "\n",
    "# use GridSearchCV for finding optimal parameters\n",
    "cv = GridSearchCV(pipeline, param_grid=parameters, verbose=2)"
   ]
  },
  {
   "cell_type": "code",
   "execution_count": 8,
   "metadata": {},
   "outputs": [
    {
     "name": "stdout",
     "output_type": "stream",
     "text": [
      "Fitting 3 folds for each of 32 candidates, totalling 96 fits\n",
      "[CV] clf__estimator__max_depth=5, clf__estimator__max_features=auto, tfidf__use_idf=True, vect__max_df=0.5 \n",
      "[CV]  clf__estimator__max_depth=5, clf__estimator__max_features=auto, tfidf__use_idf=True, vect__max_df=0.5, total=  11.2s\n",
      "[CV] clf__estimator__max_depth=5, clf__estimator__max_features=auto, tfidf__use_idf=True, vect__max_df=0.5 \n"
     ]
    },
    {
     "name": "stderr",
     "output_type": "stream",
     "text": [
      "[Parallel(n_jobs=1)]: Done   1 out of   1 | elapsed:   17.8s remaining:    0.0s\n"
     ]
    },
    {
     "name": "stdout",
     "output_type": "stream",
     "text": [
      "[CV]  clf__estimator__max_depth=5, clf__estimator__max_features=auto, tfidf__use_idf=True, vect__max_df=0.5, total=  11.1s\n",
      "[CV] clf__estimator__max_depth=5, clf__estimator__max_features=auto, tfidf__use_idf=True, vect__max_df=0.5 \n",
      "[CV]  clf__estimator__max_depth=5, clf__estimator__max_features=auto, tfidf__use_idf=True, vect__max_df=0.5, total=  11.2s\n",
      "[CV] clf__estimator__max_depth=5, clf__estimator__max_features=auto, tfidf__use_idf=True, vect__max_df=1.0 \n",
      "[CV]  clf__estimator__max_depth=5, clf__estimator__max_features=auto, tfidf__use_idf=True, vect__max_df=1.0, total=  11.2s\n",
      "[CV] clf__estimator__max_depth=5, clf__estimator__max_features=auto, tfidf__use_idf=True, vect__max_df=1.0 \n",
      "[CV]  clf__estimator__max_depth=5, clf__estimator__max_features=auto, tfidf__use_idf=True, vect__max_df=1.0, total=  11.3s\n",
      "[CV] clf__estimator__max_depth=5, clf__estimator__max_features=auto, tfidf__use_idf=True, vect__max_df=1.0 \n",
      "[CV]  clf__estimator__max_depth=5, clf__estimator__max_features=auto, tfidf__use_idf=True, vect__max_df=1.0, total=  11.3s\n",
      "[CV] clf__estimator__max_depth=5, clf__estimator__max_features=auto, tfidf__use_idf=False, vect__max_df=0.5 \n",
      "[CV]  clf__estimator__max_depth=5, clf__estimator__max_features=auto, tfidf__use_idf=False, vect__max_df=0.5, total=  11.3s\n",
      "[CV] clf__estimator__max_depth=5, clf__estimator__max_features=auto, tfidf__use_idf=False, vect__max_df=0.5 \n",
      "[CV]  clf__estimator__max_depth=5, clf__estimator__max_features=auto, tfidf__use_idf=False, vect__max_df=0.5, total=  11.4s\n",
      "[CV] clf__estimator__max_depth=5, clf__estimator__max_features=auto, tfidf__use_idf=False, vect__max_df=0.5 \n",
      "[CV]  clf__estimator__max_depth=5, clf__estimator__max_features=auto, tfidf__use_idf=False, vect__max_df=0.5, total=  11.1s\n",
      "[CV] clf__estimator__max_depth=5, clf__estimator__max_features=auto, tfidf__use_idf=False, vect__max_df=1.0 \n",
      "[CV]  clf__estimator__max_depth=5, clf__estimator__max_features=auto, tfidf__use_idf=False, vect__max_df=1.0, total=  11.2s\n",
      "[CV] clf__estimator__max_depth=5, clf__estimator__max_features=auto, tfidf__use_idf=False, vect__max_df=1.0 \n",
      "[CV]  clf__estimator__max_depth=5, clf__estimator__max_features=auto, tfidf__use_idf=False, vect__max_df=1.0, total=  11.2s\n",
      "[CV] clf__estimator__max_depth=5, clf__estimator__max_features=auto, tfidf__use_idf=False, vect__max_df=1.0 \n",
      "[CV]  clf__estimator__max_depth=5, clf__estimator__max_features=auto, tfidf__use_idf=False, vect__max_df=1.0, total=  11.1s\n",
      "[CV] clf__estimator__max_depth=5, clf__estimator__max_features=sqrt, tfidf__use_idf=True, vect__max_df=0.5 \n",
      "[CV]  clf__estimator__max_depth=5, clf__estimator__max_features=sqrt, tfidf__use_idf=True, vect__max_df=0.5, total=  11.3s\n",
      "[CV] clf__estimator__max_depth=5, clf__estimator__max_features=sqrt, tfidf__use_idf=True, vect__max_df=0.5 \n",
      "[CV]  clf__estimator__max_depth=5, clf__estimator__max_features=sqrt, tfidf__use_idf=True, vect__max_df=0.5, total=  11.4s\n",
      "[CV] clf__estimator__max_depth=5, clf__estimator__max_features=sqrt, tfidf__use_idf=True, vect__max_df=0.5 \n",
      "[CV]  clf__estimator__max_depth=5, clf__estimator__max_features=sqrt, tfidf__use_idf=True, vect__max_df=0.5, total=  11.1s\n",
      "[CV] clf__estimator__max_depth=5, clf__estimator__max_features=sqrt, tfidf__use_idf=True, vect__max_df=1.0 \n",
      "[CV]  clf__estimator__max_depth=5, clf__estimator__max_features=sqrt, tfidf__use_idf=True, vect__max_df=1.0, total=  11.3s\n",
      "[CV] clf__estimator__max_depth=5, clf__estimator__max_features=sqrt, tfidf__use_idf=True, vect__max_df=1.0 \n",
      "[CV]  clf__estimator__max_depth=5, clf__estimator__max_features=sqrt, tfidf__use_idf=True, vect__max_df=1.0, total=  11.4s\n",
      "[CV] clf__estimator__max_depth=5, clf__estimator__max_features=sqrt, tfidf__use_idf=True, vect__max_df=1.0 \n",
      "[CV]  clf__estimator__max_depth=5, clf__estimator__max_features=sqrt, tfidf__use_idf=True, vect__max_df=1.0, total=  11.1s\n",
      "[CV] clf__estimator__max_depth=5, clf__estimator__max_features=sqrt, tfidf__use_idf=False, vect__max_df=0.5 \n",
      "[CV]  clf__estimator__max_depth=5, clf__estimator__max_features=sqrt, tfidf__use_idf=False, vect__max_df=0.5, total=  11.1s\n",
      "[CV] clf__estimator__max_depth=5, clf__estimator__max_features=sqrt, tfidf__use_idf=False, vect__max_df=0.5 \n",
      "[CV]  clf__estimator__max_depth=5, clf__estimator__max_features=sqrt, tfidf__use_idf=False, vect__max_df=0.5, total=  11.2s\n",
      "[CV] clf__estimator__max_depth=5, clf__estimator__max_features=sqrt, tfidf__use_idf=False, vect__max_df=0.5 \n",
      "[CV]  clf__estimator__max_depth=5, clf__estimator__max_features=sqrt, tfidf__use_idf=False, vect__max_df=0.5, total=  11.0s\n",
      "[CV] clf__estimator__max_depth=5, clf__estimator__max_features=sqrt, tfidf__use_idf=False, vect__max_df=1.0 \n",
      "[CV]  clf__estimator__max_depth=5, clf__estimator__max_features=sqrt, tfidf__use_idf=False, vect__max_df=1.0, total=  11.1s\n",
      "[CV] clf__estimator__max_depth=5, clf__estimator__max_features=sqrt, tfidf__use_idf=False, vect__max_df=1.0 \n",
      "[CV]  clf__estimator__max_depth=5, clf__estimator__max_features=sqrt, tfidf__use_idf=False, vect__max_df=1.0, total=  11.3s\n",
      "[CV] clf__estimator__max_depth=5, clf__estimator__max_features=sqrt, tfidf__use_idf=False, vect__max_df=1.0 \n",
      "[CV]  clf__estimator__max_depth=5, clf__estimator__max_features=sqrt, tfidf__use_idf=False, vect__max_df=1.0, total=  10.9s\n",
      "[CV] clf__estimator__max_depth=10, clf__estimator__max_features=auto, tfidf__use_idf=True, vect__max_df=0.5 \n",
      "[CV]  clf__estimator__max_depth=10, clf__estimator__max_features=auto, tfidf__use_idf=True, vect__max_df=0.5, total=  12.1s\n",
      "[CV] clf__estimator__max_depth=10, clf__estimator__max_features=auto, tfidf__use_idf=True, vect__max_df=0.5 \n",
      "[CV]  clf__estimator__max_depth=10, clf__estimator__max_features=auto, tfidf__use_idf=True, vect__max_df=0.5, total=  11.9s\n",
      "[CV] clf__estimator__max_depth=10, clf__estimator__max_features=auto, tfidf__use_idf=True, vect__max_df=0.5 \n",
      "[CV]  clf__estimator__max_depth=10, clf__estimator__max_features=auto, tfidf__use_idf=True, vect__max_df=0.5, total=  12.1s\n",
      "[CV] clf__estimator__max_depth=10, clf__estimator__max_features=auto, tfidf__use_idf=True, vect__max_df=1.0 \n",
      "[CV]  clf__estimator__max_depth=10, clf__estimator__max_features=auto, tfidf__use_idf=True, vect__max_df=1.0, total=  12.1s\n",
      "[CV] clf__estimator__max_depth=10, clf__estimator__max_features=auto, tfidf__use_idf=True, vect__max_df=1.0 \n",
      "[CV]  clf__estimator__max_depth=10, clf__estimator__max_features=auto, tfidf__use_idf=True, vect__max_df=1.0, total=  12.1s\n",
      "[CV] clf__estimator__max_depth=10, clf__estimator__max_features=auto, tfidf__use_idf=True, vect__max_df=1.0 \n",
      "[CV]  clf__estimator__max_depth=10, clf__estimator__max_features=auto, tfidf__use_idf=True, vect__max_df=1.0, total=  12.1s\n",
      "[CV] clf__estimator__max_depth=10, clf__estimator__max_features=auto, tfidf__use_idf=False, vect__max_df=0.5 \n",
      "[CV]  clf__estimator__max_depth=10, clf__estimator__max_features=auto, tfidf__use_idf=False, vect__max_df=0.5, total=  11.9s\n",
      "[CV] clf__estimator__max_depth=10, clf__estimator__max_features=auto, tfidf__use_idf=False, vect__max_df=0.5 \n",
      "[CV]  clf__estimator__max_depth=10, clf__estimator__max_features=auto, tfidf__use_idf=False, vect__max_df=0.5, total=  12.0s\n",
      "[CV] clf__estimator__max_depth=10, clf__estimator__max_features=auto, tfidf__use_idf=False, vect__max_df=0.5 \n",
      "[CV]  clf__estimator__max_depth=10, clf__estimator__max_features=auto, tfidf__use_idf=False, vect__max_df=0.5, total=  12.0s\n",
      "[CV] clf__estimator__max_depth=10, clf__estimator__max_features=auto, tfidf__use_idf=False, vect__max_df=1.0 \n",
      "[CV]  clf__estimator__max_depth=10, clf__estimator__max_features=auto, tfidf__use_idf=False, vect__max_df=1.0, total=  12.1s\n",
      "[CV] clf__estimator__max_depth=10, clf__estimator__max_features=auto, tfidf__use_idf=False, vect__max_df=1.0 \n",
      "[CV]  clf__estimator__max_depth=10, clf__estimator__max_features=auto, tfidf__use_idf=False, vect__max_df=1.0, total=  11.7s\n",
      "[CV] clf__estimator__max_depth=10, clf__estimator__max_features=auto, tfidf__use_idf=False, vect__max_df=1.0 \n",
      "[CV]  clf__estimator__max_depth=10, clf__estimator__max_features=auto, tfidf__use_idf=False, vect__max_df=1.0, total=  11.9s\n",
      "[CV] clf__estimator__max_depth=10, clf__estimator__max_features=sqrt, tfidf__use_idf=True, vect__max_df=0.5 \n",
      "[CV]  clf__estimator__max_depth=10, clf__estimator__max_features=sqrt, tfidf__use_idf=True, vect__max_df=0.5, total=  11.8s\n",
      "[CV] clf__estimator__max_depth=10, clf__estimator__max_features=sqrt, tfidf__use_idf=True, vect__max_df=0.5 \n",
      "[CV]  clf__estimator__max_depth=10, clf__estimator__max_features=sqrt, tfidf__use_idf=True, vect__max_df=0.5, total=  12.0s\n",
      "[CV] clf__estimator__max_depth=10, clf__estimator__max_features=sqrt, tfidf__use_idf=True, vect__max_df=0.5 \n",
      "[CV]  clf__estimator__max_depth=10, clf__estimator__max_features=sqrt, tfidf__use_idf=True, vect__max_df=0.5, total=  11.8s\n",
      "[CV] clf__estimator__max_depth=10, clf__estimator__max_features=sqrt, tfidf__use_idf=True, vect__max_df=1.0 \n",
      "[CV]  clf__estimator__max_depth=10, clf__estimator__max_features=sqrt, tfidf__use_idf=True, vect__max_df=1.0, total=  12.0s\n",
      "[CV] clf__estimator__max_depth=10, clf__estimator__max_features=sqrt, tfidf__use_idf=True, vect__max_df=1.0 \n",
      "[CV]  clf__estimator__max_depth=10, clf__estimator__max_features=sqrt, tfidf__use_idf=True, vect__max_df=1.0, total=  11.9s\n",
      "[CV] clf__estimator__max_depth=10, clf__estimator__max_features=sqrt, tfidf__use_idf=True, vect__max_df=1.0 \n",
      "[CV]  clf__estimator__max_depth=10, clf__estimator__max_features=sqrt, tfidf__use_idf=True, vect__max_df=1.0, total=  12.0s\n",
      "[CV] clf__estimator__max_depth=10, clf__estimator__max_features=sqrt, tfidf__use_idf=False, vect__max_df=0.5 \n",
      "[CV]  clf__estimator__max_depth=10, clf__estimator__max_features=sqrt, tfidf__use_idf=False, vect__max_df=0.5, total=  11.7s\n",
      "[CV] clf__estimator__max_depth=10, clf__estimator__max_features=sqrt, tfidf__use_idf=False, vect__max_df=0.5 \n",
      "[CV]  clf__estimator__max_depth=10, clf__estimator__max_features=sqrt, tfidf__use_idf=False, vect__max_df=0.5, total=  11.7s\n",
      "[CV] clf__estimator__max_depth=10, clf__estimator__max_features=sqrt, tfidf__use_idf=False, vect__max_df=0.5 \n",
      "[CV]  clf__estimator__max_depth=10, clf__estimator__max_features=sqrt, tfidf__use_idf=False, vect__max_df=0.5, total=  11.5s\n",
      "[CV] clf__estimator__max_depth=10, clf__estimator__max_features=sqrt, tfidf__use_idf=False, vect__max_df=1.0 \n",
      "[CV]  clf__estimator__max_depth=10, clf__estimator__max_features=sqrt, tfidf__use_idf=False, vect__max_df=1.0, total=  11.5s\n",
      "[CV] clf__estimator__max_depth=10, clf__estimator__max_features=sqrt, tfidf__use_idf=False, vect__max_df=1.0 \n",
      "[CV]  clf__estimator__max_depth=10, clf__estimator__max_features=sqrt, tfidf__use_idf=False, vect__max_df=1.0, total=  11.6s\n",
      "[CV] clf__estimator__max_depth=10, clf__estimator__max_features=sqrt, tfidf__use_idf=False, vect__max_df=1.0 \n",
      "[CV]  clf__estimator__max_depth=10, clf__estimator__max_features=sqrt, tfidf__use_idf=False, vect__max_df=1.0, total=  11.7s\n",
      "[CV] clf__estimator__max_depth=20, clf__estimator__max_features=auto, tfidf__use_idf=True, vect__max_df=0.5 \n",
      "[CV]  clf__estimator__max_depth=20, clf__estimator__max_features=auto, tfidf__use_idf=True, vect__max_df=0.5, total=  14.1s\n",
      "[CV] clf__estimator__max_depth=20, clf__estimator__max_features=auto, tfidf__use_idf=True, vect__max_df=0.5 \n",
      "[CV]  clf__estimator__max_depth=20, clf__estimator__max_features=auto, tfidf__use_idf=True, vect__max_df=0.5, total=  14.1s\n",
      "[CV] clf__estimator__max_depth=20, clf__estimator__max_features=auto, tfidf__use_idf=True, vect__max_df=0.5 \n",
      "[CV]  clf__estimator__max_depth=20, clf__estimator__max_features=auto, tfidf__use_idf=True, vect__max_df=0.5, total=  13.6s\n",
      "[CV] clf__estimator__max_depth=20, clf__estimator__max_features=auto, tfidf__use_idf=True, vect__max_df=1.0 \n",
      "[CV]  clf__estimator__max_depth=20, clf__estimator__max_features=auto, tfidf__use_idf=True, vect__max_df=1.0, total=  13.7s\n",
      "[CV] clf__estimator__max_depth=20, clf__estimator__max_features=auto, tfidf__use_idf=True, vect__max_df=1.0 \n",
      "[CV]  clf__estimator__max_depth=20, clf__estimator__max_features=auto, tfidf__use_idf=True, vect__max_df=1.0, total=  14.2s\n",
      "[CV] clf__estimator__max_depth=20, clf__estimator__max_features=auto, tfidf__use_idf=True, vect__max_df=1.0 \n",
      "[CV]  clf__estimator__max_depth=20, clf__estimator__max_features=auto, tfidf__use_idf=True, vect__max_df=1.0, total=  14.5s\n",
      "[CV] clf__estimator__max_depth=20, clf__estimator__max_features=auto, tfidf__use_idf=False, vect__max_df=0.5 \n",
      "[CV]  clf__estimator__max_depth=20, clf__estimator__max_features=auto, tfidf__use_idf=False, vect__max_df=0.5, total=  14.5s\n",
      "[CV] clf__estimator__max_depth=20, clf__estimator__max_features=auto, tfidf__use_idf=False, vect__max_df=0.5 \n",
      "[CV]  clf__estimator__max_depth=20, clf__estimator__max_features=auto, tfidf__use_idf=False, vect__max_df=0.5, total=  13.6s\n",
      "[CV] clf__estimator__max_depth=20, clf__estimator__max_features=auto, tfidf__use_idf=False, vect__max_df=0.5 \n",
      "[CV]  clf__estimator__max_depth=20, clf__estimator__max_features=auto, tfidf__use_idf=False, vect__max_df=0.5, total=  14.1s\n",
      "[CV] clf__estimator__max_depth=20, clf__estimator__max_features=auto, tfidf__use_idf=False, vect__max_df=1.0 \n",
      "[CV]  clf__estimator__max_depth=20, clf__estimator__max_features=auto, tfidf__use_idf=False, vect__max_df=1.0, total=  13.8s\n",
      "[CV] clf__estimator__max_depth=20, clf__estimator__max_features=auto, tfidf__use_idf=False, vect__max_df=1.0 \n",
      "[CV]  clf__estimator__max_depth=20, clf__estimator__max_features=auto, tfidf__use_idf=False, vect__max_df=1.0, total=  14.1s\n",
      "[CV] clf__estimator__max_depth=20, clf__estimator__max_features=auto, tfidf__use_idf=False, vect__max_df=1.0 \n",
      "[CV]  clf__estimator__max_depth=20, clf__estimator__max_features=auto, tfidf__use_idf=False, vect__max_df=1.0, total=  14.1s\n",
      "[CV] clf__estimator__max_depth=20, clf__estimator__max_features=sqrt, tfidf__use_idf=True, vect__max_df=0.5 \n",
      "[CV]  clf__estimator__max_depth=20, clf__estimator__max_features=sqrt, tfidf__use_idf=True, vect__max_df=0.5, total=  13.7s\n",
      "[CV] clf__estimator__max_depth=20, clf__estimator__max_features=sqrt, tfidf__use_idf=True, vect__max_df=0.5 \n",
      "[CV]  clf__estimator__max_depth=20, clf__estimator__max_features=sqrt, tfidf__use_idf=True, vect__max_df=0.5, total=  13.6s\n",
      "[CV] clf__estimator__max_depth=20, clf__estimator__max_features=sqrt, tfidf__use_idf=True, vect__max_df=0.5 \n",
      "[CV]  clf__estimator__max_depth=20, clf__estimator__max_features=sqrt, tfidf__use_idf=True, vect__max_df=0.5, total=  16.0s\n",
      "[CV] clf__estimator__max_depth=20, clf__estimator__max_features=sqrt, tfidf__use_idf=True, vect__max_df=1.0 \n",
      "[CV]  clf__estimator__max_depth=20, clf__estimator__max_features=sqrt, tfidf__use_idf=True, vect__max_df=1.0, total=  13.7s\n",
      "[CV] clf__estimator__max_depth=20, clf__estimator__max_features=sqrt, tfidf__use_idf=True, vect__max_df=1.0 \n",
      "[CV]  clf__estimator__max_depth=20, clf__estimator__max_features=sqrt, tfidf__use_idf=True, vect__max_df=1.0, total=  13.5s\n",
      "[CV] clf__estimator__max_depth=20, clf__estimator__max_features=sqrt, tfidf__use_idf=True, vect__max_df=1.0 \n",
      "[CV]  clf__estimator__max_depth=20, clf__estimator__max_features=sqrt, tfidf__use_idf=True, vect__max_df=1.0, total=  14.1s\n",
      "[CV] clf__estimator__max_depth=20, clf__estimator__max_features=sqrt, tfidf__use_idf=False, vect__max_df=0.5 \n",
      "[CV]  clf__estimator__max_depth=20, clf__estimator__max_features=sqrt, tfidf__use_idf=False, vect__max_df=0.5, total=  14.1s\n",
      "[CV] clf__estimator__max_depth=20, clf__estimator__max_features=sqrt, tfidf__use_idf=False, vect__max_df=0.5 \n",
      "[CV]  clf__estimator__max_depth=20, clf__estimator__max_features=sqrt, tfidf__use_idf=False, vect__max_df=0.5, total=  14.0s\n",
      "[CV] clf__estimator__max_depth=20, clf__estimator__max_features=sqrt, tfidf__use_idf=False, vect__max_df=0.5 \n",
      "[CV]  clf__estimator__max_depth=20, clf__estimator__max_features=sqrt, tfidf__use_idf=False, vect__max_df=0.5, total=  13.8s\n",
      "[CV] clf__estimator__max_depth=20, clf__estimator__max_features=sqrt, tfidf__use_idf=False, vect__max_df=1.0 \n",
      "[CV]  clf__estimator__max_depth=20, clf__estimator__max_features=sqrt, tfidf__use_idf=False, vect__max_df=1.0, total=  13.6s\n",
      "[CV] clf__estimator__max_depth=20, clf__estimator__max_features=sqrt, tfidf__use_idf=False, vect__max_df=1.0 \n",
      "[CV]  clf__estimator__max_depth=20, clf__estimator__max_features=sqrt, tfidf__use_idf=False, vect__max_df=1.0, total=  13.6s\n",
      "[CV] clf__estimator__max_depth=20, clf__estimator__max_features=sqrt, tfidf__use_idf=False, vect__max_df=1.0 \n",
      "[CV]  clf__estimator__max_depth=20, clf__estimator__max_features=sqrt, tfidf__use_idf=False, vect__max_df=1.0, total=  13.4s\n",
      "[CV] clf__estimator__max_depth=None, clf__estimator__max_features=auto, tfidf__use_idf=True, vect__max_df=0.5 \n",
      "[CV]  clf__estimator__max_depth=None, clf__estimator__max_features=auto, tfidf__use_idf=True, vect__max_df=0.5, total=  43.4s\n",
      "[CV] clf__estimator__max_depth=None, clf__estimator__max_features=auto, tfidf__use_idf=True, vect__max_df=0.5 \n",
      "[CV]  clf__estimator__max_depth=None, clf__estimator__max_features=auto, tfidf__use_idf=True, vect__max_df=0.5, total=  43.0s\n",
      "[CV] clf__estimator__max_depth=None, clf__estimator__max_features=auto, tfidf__use_idf=True, vect__max_df=0.5 \n",
      "[CV]  clf__estimator__max_depth=None, clf__estimator__max_features=auto, tfidf__use_idf=True, vect__max_df=0.5, total=  43.8s\n",
      "[CV] clf__estimator__max_depth=None, clf__estimator__max_features=auto, tfidf__use_idf=True, vect__max_df=1.0 \n",
      "[CV]  clf__estimator__max_depth=None, clf__estimator__max_features=auto, tfidf__use_idf=True, vect__max_df=1.0, total=  42.7s\n",
      "[CV] clf__estimator__max_depth=None, clf__estimator__max_features=auto, tfidf__use_idf=True, vect__max_df=1.0 \n",
      "[CV]  clf__estimator__max_depth=None, clf__estimator__max_features=auto, tfidf__use_idf=True, vect__max_df=1.0, total=  42.8s\n",
      "[CV] clf__estimator__max_depth=None, clf__estimator__max_features=auto, tfidf__use_idf=True, vect__max_df=1.0 \n",
      "[CV]  clf__estimator__max_depth=None, clf__estimator__max_features=auto, tfidf__use_idf=True, vect__max_df=1.0, total=  44.1s\n",
      "[CV] clf__estimator__max_depth=None, clf__estimator__max_features=auto, tfidf__use_idf=False, vect__max_df=0.5 \n",
      "[CV]  clf__estimator__max_depth=None, clf__estimator__max_features=auto, tfidf__use_idf=False, vect__max_df=0.5, total=  43.2s\n",
      "[CV] clf__estimator__max_depth=None, clf__estimator__max_features=auto, tfidf__use_idf=False, vect__max_df=0.5 \n",
      "[CV]  clf__estimator__max_depth=None, clf__estimator__max_features=auto, tfidf__use_idf=False, vect__max_df=0.5, total=  46.0s\n",
      "[CV] clf__estimator__max_depth=None, clf__estimator__max_features=auto, tfidf__use_idf=False, vect__max_df=0.5 \n",
      "[CV]  clf__estimator__max_depth=None, clf__estimator__max_features=auto, tfidf__use_idf=False, vect__max_df=0.5, total=  44.6s\n",
      "[CV] clf__estimator__max_depth=None, clf__estimator__max_features=auto, tfidf__use_idf=False, vect__max_df=1.0 \n",
      "[CV]  clf__estimator__max_depth=None, clf__estimator__max_features=auto, tfidf__use_idf=False, vect__max_df=1.0, total=  43.7s\n",
      "[CV] clf__estimator__max_depth=None, clf__estimator__max_features=auto, tfidf__use_idf=False, vect__max_df=1.0 \n",
      "[CV]  clf__estimator__max_depth=None, clf__estimator__max_features=auto, tfidf__use_idf=False, vect__max_df=1.0, total=  44.1s\n",
      "[CV] clf__estimator__max_depth=None, clf__estimator__max_features=auto, tfidf__use_idf=False, vect__max_df=1.0 \n",
      "[CV]  clf__estimator__max_depth=None, clf__estimator__max_features=auto, tfidf__use_idf=False, vect__max_df=1.0, total=  44.1s\n",
      "[CV] clf__estimator__max_depth=None, clf__estimator__max_features=sqrt, tfidf__use_idf=True, vect__max_df=0.5 \n",
      "[CV]  clf__estimator__max_depth=None, clf__estimator__max_features=sqrt, tfidf__use_idf=True, vect__max_df=0.5, total=  42.8s\n",
      "[CV] clf__estimator__max_depth=None, clf__estimator__max_features=sqrt, tfidf__use_idf=True, vect__max_df=0.5 \n",
      "[CV]  clf__estimator__max_depth=None, clf__estimator__max_features=sqrt, tfidf__use_idf=True, vect__max_df=0.5, total=  43.5s\n",
      "[CV] clf__estimator__max_depth=None, clf__estimator__max_features=sqrt, tfidf__use_idf=True, vect__max_df=0.5 \n",
      "[CV]  clf__estimator__max_depth=None, clf__estimator__max_features=sqrt, tfidf__use_idf=True, vect__max_df=0.5, total=  43.2s\n",
      "[CV] clf__estimator__max_depth=None, clf__estimator__max_features=sqrt, tfidf__use_idf=True, vect__max_df=1.0 \n",
      "[CV]  clf__estimator__max_depth=None, clf__estimator__max_features=sqrt, tfidf__use_idf=True, vect__max_df=1.0, total=  42.3s\n",
      "[CV] clf__estimator__max_depth=None, clf__estimator__max_features=sqrt, tfidf__use_idf=True, vect__max_df=1.0 \n",
      "[CV]  clf__estimator__max_depth=None, clf__estimator__max_features=sqrt, tfidf__use_idf=True, vect__max_df=1.0, total=  42.8s\n",
      "[CV] clf__estimator__max_depth=None, clf__estimator__max_features=sqrt, tfidf__use_idf=True, vect__max_df=1.0 \n",
      "[CV]  clf__estimator__max_depth=None, clf__estimator__max_features=sqrt, tfidf__use_idf=True, vect__max_df=1.0, total=  44.1s\n",
      "[CV] clf__estimator__max_depth=None, clf__estimator__max_features=sqrt, tfidf__use_idf=False, vect__max_df=0.5 \n",
      "[CV]  clf__estimator__max_depth=None, clf__estimator__max_features=sqrt, tfidf__use_idf=False, vect__max_df=0.5, total=  44.1s\n",
      "[CV] clf__estimator__max_depth=None, clf__estimator__max_features=sqrt, tfidf__use_idf=False, vect__max_df=0.5 \n",
      "[CV]  clf__estimator__max_depth=None, clf__estimator__max_features=sqrt, tfidf__use_idf=False, vect__max_df=0.5, total=  44.5s\n",
      "[CV] clf__estimator__max_depth=None, clf__estimator__max_features=sqrt, tfidf__use_idf=False, vect__max_df=0.5 \n",
      "[CV]  clf__estimator__max_depth=None, clf__estimator__max_features=sqrt, tfidf__use_idf=False, vect__max_df=0.5, total=  43.0s\n",
      "[CV] clf__estimator__max_depth=None, clf__estimator__max_features=sqrt, tfidf__use_idf=False, vect__max_df=1.0 \n",
      "[CV]  clf__estimator__max_depth=None, clf__estimator__max_features=sqrt, tfidf__use_idf=False, vect__max_df=1.0, total=  41.6s\n",
      "[CV] clf__estimator__max_depth=None, clf__estimator__max_features=sqrt, tfidf__use_idf=False, vect__max_df=1.0 \n",
      "[CV]  clf__estimator__max_depth=None, clf__estimator__max_features=sqrt, tfidf__use_idf=False, vect__max_df=1.0, total=  42.3s\n",
      "[CV] clf__estimator__max_depth=None, clf__estimator__max_features=sqrt, tfidf__use_idf=False, vect__max_df=1.0 \n",
      "[CV]  clf__estimator__max_depth=None, clf__estimator__max_features=sqrt, tfidf__use_idf=False, vect__max_df=1.0, total=  42.3s\n"
     ]
    },
    {
     "name": "stderr",
     "output_type": "stream",
     "text": [
      "[Parallel(n_jobs=1)]: Done  96 out of  96 | elapsed: 43.5min finished\n"
     ]
    },
    {
     "data": {
      "text/plain": [
       "GridSearchCV(cv=None, error_score='raise',\n",
       "       estimator=Pipeline(memory=None,\n",
       "     steps=[('vect', CountVectorizer(analyzer='word', binary=False, decode_error='strict',\n",
       "        dtype=<class 'numpy.int64'>, encoding='utf-8', input='content',\n",
       "        lowercase=True, max_df=1.0, max_features=None, min_df=1,\n",
       "        ngram_range=(1, 1), preprocessor=None, stop_words=None,\n",
       "        strip...oob_score=False, random_state=None, verbose=0,\n",
       "            warm_start=False),\n",
       "           n_jobs=1))]),\n",
       "       fit_params=None, iid=True, n_jobs=1,\n",
       "       param_grid={'vect__max_df': (0.5, 1.0), 'tfidf__use_idf': (True, False), 'clf__estimator__max_features': ['auto', 'sqrt'], 'clf__estimator__max_depth': [5, 10, 20, None]},\n",
       "       pre_dispatch='2*n_jobs', refit=True, return_train_score='warn',\n",
       "       scoring=None, verbose=2)"
      ]
     },
     "execution_count": 8,
     "metadata": {},
     "output_type": "execute_result"
    }
   ],
   "source": [
    "# fit model\n",
    "cv.fit(X_train, y_train)"
   ]
  },
  {
   "cell_type": "markdown",
   "metadata": {},
   "source": [
    "### 7. Test your model\n",
    "Show the accuracy, precision, and recall of the tuned model.  \n",
    "\n",
    "Since this project focuses on code quality, process, and  pipelines, there is no minimum performance metric needed to pass. However, make sure to fine tune your models for accuracy, precision and recall to make your project stand out - especially for your portfolio!"
   ]
  },
  {
   "cell_type": "code",
   "execution_count": 9,
   "metadata": {},
   "outputs": [
    {
     "name": "stdout",
     "output_type": "stream",
     "text": [
      "\n",
      "                         precision    recall  f1-score   support\n",
      "\n",
      "               related       0.83      0.93      0.87      5001\n",
      "               request       0.82      0.36      0.50      1093\n",
      "                 offer       0.00      0.00      0.00        32\n",
      "           aid_related       0.75      0.53      0.62      2700\n",
      "          medical_help       0.69      0.11      0.19       532\n",
      "      medical_products       0.67      0.09      0.16       345\n",
      "     search_and_rescue       0.60      0.02      0.04       165\n",
      "              security       0.33      0.01      0.02       127\n",
      "              military       0.50      0.04      0.08       197\n",
      "           child_alone       0.00      0.00      0.00         0\n",
      "                 water       0.72      0.15      0.25       408\n",
      "                  food       0.81      0.36      0.50       723\n",
      "               shelter       0.82      0.26      0.39       590\n",
      "              clothing       0.76      0.17      0.28        95\n",
      "                 money       0.78      0.05      0.10       138\n",
      "        missing_people       0.00      0.00      0.00        74\n",
      "              refugees       0.36      0.02      0.03       223\n",
      "                 death       0.84      0.10      0.18       301\n",
      "             other_aid       0.66      0.04      0.07       865\n",
      "infrastructure_related       0.43      0.01      0.01       410\n",
      "             transport       0.80      0.07      0.13       288\n",
      "             buildings       0.70      0.09      0.16       331\n",
      "           electricity       0.67      0.04      0.08       144\n",
      "                 tools       0.00      0.00      0.00        46\n",
      "             hospitals       0.00      0.00      0.00        60\n",
      "                 shops       0.00      0.00      0.00        29\n",
      "           aid_centers       0.00      0.00      0.00        77\n",
      "  other_infrastructure       0.33      0.00      0.01       277\n",
      "       weather_related       0.86      0.55      0.67      1816\n",
      "                floods       0.83      0.23      0.36       546\n",
      "                 storm       0.75      0.35      0.48       596\n",
      "                  fire       0.80      0.06      0.11        67\n",
      "            earthquake       0.88      0.72      0.79       630\n",
      "                  cold       0.78      0.15      0.25       122\n",
      "         other_weather       0.50      0.03      0.06       319\n",
      "         direct_report       0.76      0.29      0.42      1265\n",
      "\n",
      "           avg / total       0.75      0.45      0.51     20632\n",
      "\n"
     ]
    },
    {
     "name": "stderr",
     "output_type": "stream",
     "text": [
      "/opt/conda/lib/python3.6/site-packages/sklearn/metrics/classification.py:1135: UndefinedMetricWarning: Precision and F-score are ill-defined and being set to 0.0 in labels with no predicted samples.\n",
      "  'precision', 'predicted', average, warn_for)\n",
      "/opt/conda/lib/python3.6/site-packages/sklearn/metrics/classification.py:1137: UndefinedMetricWarning: Recall and F-score are ill-defined and being set to 0.0 in labels with no true samples.\n",
      "  'recall', 'true', average, warn_for)\n"
     ]
    }
   ],
   "source": [
    "# predict\n",
    "y_pred_cv = cv.predict(X_test)\n",
    "\n",
    "# print report using sklearn classification_report\n",
    "print('\\n', classification_report(y_test, y_pred_cv, target_names=Y.columns.values))"
   ]
  },
  {
   "cell_type": "markdown",
   "metadata": {},
   "source": [
    "### 8. Try improving your model further. Here are a few ideas:\n",
    "* try other machine learning algorithms\n",
    "* add other features besides the TF-IDF"
   ]
  },
  {
   "cell_type": "code",
   "execution_count": 10,
   "metadata": {},
   "outputs": [
    {
     "name": "stdout",
     "output_type": "stream",
     "text": [
      "Fitting 3 folds for each of 12 candidates, totalling 36 fits\n",
      "[CV] clf__estimator__alpha=0.01, tfidf__use_idf=True, vect__max_df=0.5 \n"
     ]
    },
    {
     "name": "stderr",
     "output_type": "stream",
     "text": [
      "/opt/conda/lib/python3.6/site-packages/sklearn/naive_bayes.py:461: RuntimeWarning: divide by zero encountered in log\n",
      "  self.class_log_prior_ = (np.log(self.class_count_) -\n"
     ]
    },
    {
     "name": "stdout",
     "output_type": "stream",
     "text": [
      "[CV]  clf__estimator__alpha=0.01, tfidf__use_idf=True, vect__max_df=0.5, total=   9.0s\n",
      "[CV] clf__estimator__alpha=0.01, tfidf__use_idf=True, vect__max_df=0.5 \n"
     ]
    },
    {
     "name": "stderr",
     "output_type": "stream",
     "text": [
      "[Parallel(n_jobs=1)]: Done   1 out of   1 | elapsed:   14.9s remaining:    0.0s\n",
      "/opt/conda/lib/python3.6/site-packages/sklearn/naive_bayes.py:461: RuntimeWarning: divide by zero encountered in log\n",
      "  self.class_log_prior_ = (np.log(self.class_count_) -\n"
     ]
    },
    {
     "name": "stdout",
     "output_type": "stream",
     "text": [
      "[CV]  clf__estimator__alpha=0.01, tfidf__use_idf=True, vect__max_df=0.5, total=   8.9s\n",
      "[CV] clf__estimator__alpha=0.01, tfidf__use_idf=True, vect__max_df=0.5 \n"
     ]
    },
    {
     "name": "stderr",
     "output_type": "stream",
     "text": [
      "/opt/conda/lib/python3.6/site-packages/sklearn/naive_bayes.py:461: RuntimeWarning: divide by zero encountered in log\n",
      "  self.class_log_prior_ = (np.log(self.class_count_) -\n"
     ]
    },
    {
     "name": "stdout",
     "output_type": "stream",
     "text": [
      "[CV]  clf__estimator__alpha=0.01, tfidf__use_idf=True, vect__max_df=0.5, total=   8.9s\n",
      "[CV] clf__estimator__alpha=0.01, tfidf__use_idf=True, vect__max_df=1.0 \n"
     ]
    },
    {
     "name": "stderr",
     "output_type": "stream",
     "text": [
      "/opt/conda/lib/python3.6/site-packages/sklearn/naive_bayes.py:461: RuntimeWarning: divide by zero encountered in log\n",
      "  self.class_log_prior_ = (np.log(self.class_count_) -\n"
     ]
    },
    {
     "name": "stdout",
     "output_type": "stream",
     "text": [
      "[CV]  clf__estimator__alpha=0.01, tfidf__use_idf=True, vect__max_df=1.0, total=   8.7s\n",
      "[CV] clf__estimator__alpha=0.01, tfidf__use_idf=True, vect__max_df=1.0 \n"
     ]
    },
    {
     "name": "stderr",
     "output_type": "stream",
     "text": [
      "/opt/conda/lib/python3.6/site-packages/sklearn/naive_bayes.py:461: RuntimeWarning: divide by zero encountered in log\n",
      "  self.class_log_prior_ = (np.log(self.class_count_) -\n"
     ]
    },
    {
     "name": "stdout",
     "output_type": "stream",
     "text": [
      "[CV]  clf__estimator__alpha=0.01, tfidf__use_idf=True, vect__max_df=1.0, total=   8.7s\n",
      "[CV] clf__estimator__alpha=0.01, tfidf__use_idf=True, vect__max_df=1.0 \n"
     ]
    },
    {
     "name": "stderr",
     "output_type": "stream",
     "text": [
      "/opt/conda/lib/python3.6/site-packages/sklearn/naive_bayes.py:461: RuntimeWarning: divide by zero encountered in log\n",
      "  self.class_log_prior_ = (np.log(self.class_count_) -\n"
     ]
    },
    {
     "name": "stdout",
     "output_type": "stream",
     "text": [
      "[CV]  clf__estimator__alpha=0.01, tfidf__use_idf=True, vect__max_df=1.0, total=   8.7s\n",
      "[CV] clf__estimator__alpha=0.01, tfidf__use_idf=False, vect__max_df=0.5 \n"
     ]
    },
    {
     "name": "stderr",
     "output_type": "stream",
     "text": [
      "/opt/conda/lib/python3.6/site-packages/sklearn/naive_bayes.py:461: RuntimeWarning: divide by zero encountered in log\n",
      "  self.class_log_prior_ = (np.log(self.class_count_) -\n"
     ]
    },
    {
     "name": "stdout",
     "output_type": "stream",
     "text": [
      "[CV]  clf__estimator__alpha=0.01, tfidf__use_idf=False, vect__max_df=0.5, total=   9.0s\n",
      "[CV] clf__estimator__alpha=0.01, tfidf__use_idf=False, vect__max_df=0.5 \n"
     ]
    },
    {
     "name": "stderr",
     "output_type": "stream",
     "text": [
      "/opt/conda/lib/python3.6/site-packages/sklearn/naive_bayes.py:461: RuntimeWarning: divide by zero encountered in log\n",
      "  self.class_log_prior_ = (np.log(self.class_count_) -\n"
     ]
    },
    {
     "name": "stdout",
     "output_type": "stream",
     "text": [
      "[CV]  clf__estimator__alpha=0.01, tfidf__use_idf=False, vect__max_df=0.5, total=   8.9s\n",
      "[CV] clf__estimator__alpha=0.01, tfidf__use_idf=False, vect__max_df=0.5 \n"
     ]
    },
    {
     "name": "stderr",
     "output_type": "stream",
     "text": [
      "/opt/conda/lib/python3.6/site-packages/sklearn/naive_bayes.py:461: RuntimeWarning: divide by zero encountered in log\n",
      "  self.class_log_prior_ = (np.log(self.class_count_) -\n"
     ]
    },
    {
     "name": "stdout",
     "output_type": "stream",
     "text": [
      "[CV]  clf__estimator__alpha=0.01, tfidf__use_idf=False, vect__max_df=0.5, total=   9.0s\n",
      "[CV] clf__estimator__alpha=0.01, tfidf__use_idf=False, vect__max_df=1.0 \n"
     ]
    },
    {
     "name": "stderr",
     "output_type": "stream",
     "text": [
      "/opt/conda/lib/python3.6/site-packages/sklearn/naive_bayes.py:461: RuntimeWarning: divide by zero encountered in log\n",
      "  self.class_log_prior_ = (np.log(self.class_count_) -\n"
     ]
    },
    {
     "name": "stdout",
     "output_type": "stream",
     "text": [
      "[CV]  clf__estimator__alpha=0.01, tfidf__use_idf=False, vect__max_df=1.0, total=   8.9s\n",
      "[CV] clf__estimator__alpha=0.01, tfidf__use_idf=False, vect__max_df=1.0 \n"
     ]
    },
    {
     "name": "stderr",
     "output_type": "stream",
     "text": [
      "/opt/conda/lib/python3.6/site-packages/sklearn/naive_bayes.py:461: RuntimeWarning: divide by zero encountered in log\n",
      "  self.class_log_prior_ = (np.log(self.class_count_) -\n"
     ]
    },
    {
     "name": "stdout",
     "output_type": "stream",
     "text": [
      "[CV]  clf__estimator__alpha=0.01, tfidf__use_idf=False, vect__max_df=1.0, total=   8.9s\n",
      "[CV] clf__estimator__alpha=0.01, tfidf__use_idf=False, vect__max_df=1.0 \n"
     ]
    },
    {
     "name": "stderr",
     "output_type": "stream",
     "text": [
      "/opt/conda/lib/python3.6/site-packages/sklearn/naive_bayes.py:461: RuntimeWarning: divide by zero encountered in log\n",
      "  self.class_log_prior_ = (np.log(self.class_count_) -\n"
     ]
    },
    {
     "name": "stdout",
     "output_type": "stream",
     "text": [
      "[CV]  clf__estimator__alpha=0.01, tfidf__use_idf=False, vect__max_df=1.0, total=   8.9s\n",
      "[CV] clf__estimator__alpha=0.05, tfidf__use_idf=True, vect__max_df=0.5 \n"
     ]
    },
    {
     "name": "stderr",
     "output_type": "stream",
     "text": [
      "/opt/conda/lib/python3.6/site-packages/sklearn/naive_bayes.py:461: RuntimeWarning: divide by zero encountered in log\n",
      "  self.class_log_prior_ = (np.log(self.class_count_) -\n"
     ]
    },
    {
     "name": "stdout",
     "output_type": "stream",
     "text": [
      "[CV]  clf__estimator__alpha=0.05, tfidf__use_idf=True, vect__max_df=0.5, total=   8.9s\n",
      "[CV] clf__estimator__alpha=0.05, tfidf__use_idf=True, vect__max_df=0.5 \n"
     ]
    },
    {
     "name": "stderr",
     "output_type": "stream",
     "text": [
      "/opt/conda/lib/python3.6/site-packages/sklearn/naive_bayes.py:461: RuntimeWarning: divide by zero encountered in log\n",
      "  self.class_log_prior_ = (np.log(self.class_count_) -\n"
     ]
    },
    {
     "name": "stdout",
     "output_type": "stream",
     "text": [
      "[CV]  clf__estimator__alpha=0.05, tfidf__use_idf=True, vect__max_df=0.5, total=   9.0s\n",
      "[CV] clf__estimator__alpha=0.05, tfidf__use_idf=True, vect__max_df=0.5 \n"
     ]
    },
    {
     "name": "stderr",
     "output_type": "stream",
     "text": [
      "/opt/conda/lib/python3.6/site-packages/sklearn/naive_bayes.py:461: RuntimeWarning: divide by zero encountered in log\n",
      "  self.class_log_prior_ = (np.log(self.class_count_) -\n"
     ]
    },
    {
     "name": "stdout",
     "output_type": "stream",
     "text": [
      "[CV]  clf__estimator__alpha=0.05, tfidf__use_idf=True, vect__max_df=0.5, total=   8.8s\n",
      "[CV] clf__estimator__alpha=0.05, tfidf__use_idf=True, vect__max_df=1.0 \n"
     ]
    },
    {
     "name": "stderr",
     "output_type": "stream",
     "text": [
      "/opt/conda/lib/python3.6/site-packages/sklearn/naive_bayes.py:461: RuntimeWarning: divide by zero encountered in log\n",
      "  self.class_log_prior_ = (np.log(self.class_count_) -\n"
     ]
    },
    {
     "name": "stdout",
     "output_type": "stream",
     "text": [
      "[CV]  clf__estimator__alpha=0.05, tfidf__use_idf=True, vect__max_df=1.0, total=   8.6s\n",
      "[CV] clf__estimator__alpha=0.05, tfidf__use_idf=True, vect__max_df=1.0 \n"
     ]
    },
    {
     "name": "stderr",
     "output_type": "stream",
     "text": [
      "/opt/conda/lib/python3.6/site-packages/sklearn/naive_bayes.py:461: RuntimeWarning: divide by zero encountered in log\n",
      "  self.class_log_prior_ = (np.log(self.class_count_) -\n"
     ]
    },
    {
     "name": "stdout",
     "output_type": "stream",
     "text": [
      "[CV]  clf__estimator__alpha=0.05, tfidf__use_idf=True, vect__max_df=1.0, total=   8.7s\n",
      "[CV] clf__estimator__alpha=0.05, tfidf__use_idf=True, vect__max_df=1.0 \n"
     ]
    },
    {
     "name": "stderr",
     "output_type": "stream",
     "text": [
      "/opt/conda/lib/python3.6/site-packages/sklearn/naive_bayes.py:461: RuntimeWarning: divide by zero encountered in log\n",
      "  self.class_log_prior_ = (np.log(self.class_count_) -\n"
     ]
    },
    {
     "name": "stdout",
     "output_type": "stream",
     "text": [
      "[CV]  clf__estimator__alpha=0.05, tfidf__use_idf=True, vect__max_df=1.0, total=   8.8s\n",
      "[CV] clf__estimator__alpha=0.05, tfidf__use_idf=False, vect__max_df=0.5 \n"
     ]
    },
    {
     "name": "stderr",
     "output_type": "stream",
     "text": [
      "/opt/conda/lib/python3.6/site-packages/sklearn/naive_bayes.py:461: RuntimeWarning: divide by zero encountered in log\n",
      "  self.class_log_prior_ = (np.log(self.class_count_) -\n"
     ]
    },
    {
     "name": "stdout",
     "output_type": "stream",
     "text": [
      "[CV]  clf__estimator__alpha=0.05, tfidf__use_idf=False, vect__max_df=0.5, total=   8.7s\n",
      "[CV] clf__estimator__alpha=0.05, tfidf__use_idf=False, vect__max_df=0.5 \n"
     ]
    },
    {
     "name": "stderr",
     "output_type": "stream",
     "text": [
      "/opt/conda/lib/python3.6/site-packages/sklearn/naive_bayes.py:461: RuntimeWarning: divide by zero encountered in log\n",
      "  self.class_log_prior_ = (np.log(self.class_count_) -\n"
     ]
    },
    {
     "name": "stdout",
     "output_type": "stream",
     "text": [
      "[CV]  clf__estimator__alpha=0.05, tfidf__use_idf=False, vect__max_df=0.5, total=   8.9s\n",
      "[CV] clf__estimator__alpha=0.05, tfidf__use_idf=False, vect__max_df=0.5 \n"
     ]
    },
    {
     "name": "stderr",
     "output_type": "stream",
     "text": [
      "/opt/conda/lib/python3.6/site-packages/sklearn/naive_bayes.py:461: RuntimeWarning: divide by zero encountered in log\n",
      "  self.class_log_prior_ = (np.log(self.class_count_) -\n"
     ]
    },
    {
     "name": "stdout",
     "output_type": "stream",
     "text": [
      "[CV]  clf__estimator__alpha=0.05, tfidf__use_idf=False, vect__max_df=0.5, total=   8.8s\n",
      "[CV] clf__estimator__alpha=0.05, tfidf__use_idf=False, vect__max_df=1.0 \n"
     ]
    },
    {
     "name": "stderr",
     "output_type": "stream",
     "text": [
      "/opt/conda/lib/python3.6/site-packages/sklearn/naive_bayes.py:461: RuntimeWarning: divide by zero encountered in log\n",
      "  self.class_log_prior_ = (np.log(self.class_count_) -\n"
     ]
    },
    {
     "name": "stdout",
     "output_type": "stream",
     "text": [
      "[CV]  clf__estimator__alpha=0.05, tfidf__use_idf=False, vect__max_df=1.0, total=   9.1s\n",
      "[CV] clf__estimator__alpha=0.05, tfidf__use_idf=False, vect__max_df=1.0 \n"
     ]
    },
    {
     "name": "stderr",
     "output_type": "stream",
     "text": [
      "/opt/conda/lib/python3.6/site-packages/sklearn/naive_bayes.py:461: RuntimeWarning: divide by zero encountered in log\n",
      "  self.class_log_prior_ = (np.log(self.class_count_) -\n"
     ]
    },
    {
     "name": "stdout",
     "output_type": "stream",
     "text": [
      "[CV]  clf__estimator__alpha=0.05, tfidf__use_idf=False, vect__max_df=1.0, total=   8.9s\n",
      "[CV] clf__estimator__alpha=0.05, tfidf__use_idf=False, vect__max_df=1.0 \n"
     ]
    },
    {
     "name": "stderr",
     "output_type": "stream",
     "text": [
      "/opt/conda/lib/python3.6/site-packages/sklearn/naive_bayes.py:461: RuntimeWarning: divide by zero encountered in log\n",
      "  self.class_log_prior_ = (np.log(self.class_count_) -\n"
     ]
    },
    {
     "name": "stdout",
     "output_type": "stream",
     "text": [
      "[CV]  clf__estimator__alpha=0.05, tfidf__use_idf=False, vect__max_df=1.0, total=   8.8s\n",
      "[CV] clf__estimator__alpha=0.1, tfidf__use_idf=True, vect__max_df=0.5 \n"
     ]
    },
    {
     "name": "stderr",
     "output_type": "stream",
     "text": [
      "/opt/conda/lib/python3.6/site-packages/sklearn/naive_bayes.py:461: RuntimeWarning: divide by zero encountered in log\n",
      "  self.class_log_prior_ = (np.log(self.class_count_) -\n"
     ]
    },
    {
     "name": "stdout",
     "output_type": "stream",
     "text": [
      "[CV]  clf__estimator__alpha=0.1, tfidf__use_idf=True, vect__max_df=0.5, total=   9.0s\n",
      "[CV] clf__estimator__alpha=0.1, tfidf__use_idf=True, vect__max_df=0.5 \n"
     ]
    },
    {
     "name": "stderr",
     "output_type": "stream",
     "text": [
      "/opt/conda/lib/python3.6/site-packages/sklearn/naive_bayes.py:461: RuntimeWarning: divide by zero encountered in log\n",
      "  self.class_log_prior_ = (np.log(self.class_count_) -\n"
     ]
    },
    {
     "name": "stdout",
     "output_type": "stream",
     "text": [
      "[CV]  clf__estimator__alpha=0.1, tfidf__use_idf=True, vect__max_df=0.5, total=   8.7s\n",
      "[CV] clf__estimator__alpha=0.1, tfidf__use_idf=True, vect__max_df=0.5 \n"
     ]
    },
    {
     "name": "stderr",
     "output_type": "stream",
     "text": [
      "/opt/conda/lib/python3.6/site-packages/sklearn/naive_bayes.py:461: RuntimeWarning: divide by zero encountered in log\n",
      "  self.class_log_prior_ = (np.log(self.class_count_) -\n"
     ]
    },
    {
     "name": "stdout",
     "output_type": "stream",
     "text": [
      "[CV]  clf__estimator__alpha=0.1, tfidf__use_idf=True, vect__max_df=0.5, total=   8.9s\n",
      "[CV] clf__estimator__alpha=0.1, tfidf__use_idf=True, vect__max_df=1.0 \n"
     ]
    },
    {
     "name": "stderr",
     "output_type": "stream",
     "text": [
      "/opt/conda/lib/python3.6/site-packages/sklearn/naive_bayes.py:461: RuntimeWarning: divide by zero encountered in log\n",
      "  self.class_log_prior_ = (np.log(self.class_count_) -\n"
     ]
    },
    {
     "name": "stdout",
     "output_type": "stream",
     "text": [
      "[CV]  clf__estimator__alpha=0.1, tfidf__use_idf=True, vect__max_df=1.0, total=   9.1s\n",
      "[CV] clf__estimator__alpha=0.1, tfidf__use_idf=True, vect__max_df=1.0 \n"
     ]
    },
    {
     "name": "stderr",
     "output_type": "stream",
     "text": [
      "/opt/conda/lib/python3.6/site-packages/sklearn/naive_bayes.py:461: RuntimeWarning: divide by zero encountered in log\n",
      "  self.class_log_prior_ = (np.log(self.class_count_) -\n"
     ]
    },
    {
     "name": "stdout",
     "output_type": "stream",
     "text": [
      "[CV]  clf__estimator__alpha=0.1, tfidf__use_idf=True, vect__max_df=1.0, total=   8.9s\n",
      "[CV] clf__estimator__alpha=0.1, tfidf__use_idf=True, vect__max_df=1.0 \n"
     ]
    },
    {
     "name": "stderr",
     "output_type": "stream",
     "text": [
      "/opt/conda/lib/python3.6/site-packages/sklearn/naive_bayes.py:461: RuntimeWarning: divide by zero encountered in log\n",
      "  self.class_log_prior_ = (np.log(self.class_count_) -\n"
     ]
    },
    {
     "name": "stdout",
     "output_type": "stream",
     "text": [
      "[CV]  clf__estimator__alpha=0.1, tfidf__use_idf=True, vect__max_df=1.0, total=   8.9s\n",
      "[CV] clf__estimator__alpha=0.1, tfidf__use_idf=False, vect__max_df=0.5 \n"
     ]
    },
    {
     "name": "stderr",
     "output_type": "stream",
     "text": [
      "/opt/conda/lib/python3.6/site-packages/sklearn/naive_bayes.py:461: RuntimeWarning: divide by zero encountered in log\n",
      "  self.class_log_prior_ = (np.log(self.class_count_) -\n"
     ]
    },
    {
     "name": "stdout",
     "output_type": "stream",
     "text": [
      "[CV]  clf__estimator__alpha=0.1, tfidf__use_idf=False, vect__max_df=0.5, total=   8.7s\n",
      "[CV] clf__estimator__alpha=0.1, tfidf__use_idf=False, vect__max_df=0.5 \n"
     ]
    },
    {
     "name": "stderr",
     "output_type": "stream",
     "text": [
      "/opt/conda/lib/python3.6/site-packages/sklearn/naive_bayes.py:461: RuntimeWarning: divide by zero encountered in log\n",
      "  self.class_log_prior_ = (np.log(self.class_count_) -\n"
     ]
    },
    {
     "name": "stdout",
     "output_type": "stream",
     "text": [
      "[CV]  clf__estimator__alpha=0.1, tfidf__use_idf=False, vect__max_df=0.5, total=   8.8s\n",
      "[CV] clf__estimator__alpha=0.1, tfidf__use_idf=False, vect__max_df=0.5 \n"
     ]
    },
    {
     "name": "stderr",
     "output_type": "stream",
     "text": [
      "/opt/conda/lib/python3.6/site-packages/sklearn/naive_bayes.py:461: RuntimeWarning: divide by zero encountered in log\n",
      "  self.class_log_prior_ = (np.log(self.class_count_) -\n"
     ]
    },
    {
     "name": "stdout",
     "output_type": "stream",
     "text": [
      "[CV]  clf__estimator__alpha=0.1, tfidf__use_idf=False, vect__max_df=0.5, total=   9.1s\n",
      "[CV] clf__estimator__alpha=0.1, tfidf__use_idf=False, vect__max_df=1.0 \n"
     ]
    },
    {
     "name": "stderr",
     "output_type": "stream",
     "text": [
      "/opt/conda/lib/python3.6/site-packages/sklearn/naive_bayes.py:461: RuntimeWarning: divide by zero encountered in log\n",
      "  self.class_log_prior_ = (np.log(self.class_count_) -\n"
     ]
    },
    {
     "name": "stdout",
     "output_type": "stream",
     "text": [
      "[CV]  clf__estimator__alpha=0.1, tfidf__use_idf=False, vect__max_df=1.0, total=   9.0s\n",
      "[CV] clf__estimator__alpha=0.1, tfidf__use_idf=False, vect__max_df=1.0 \n"
     ]
    },
    {
     "name": "stderr",
     "output_type": "stream",
     "text": [
      "/opt/conda/lib/python3.6/site-packages/sklearn/naive_bayes.py:461: RuntimeWarning: divide by zero encountered in log\n",
      "  self.class_log_prior_ = (np.log(self.class_count_) -\n"
     ]
    },
    {
     "name": "stdout",
     "output_type": "stream",
     "text": [
      "[CV]  clf__estimator__alpha=0.1, tfidf__use_idf=False, vect__max_df=1.0, total=   9.0s\n",
      "[CV] clf__estimator__alpha=0.1, tfidf__use_idf=False, vect__max_df=1.0 \n"
     ]
    },
    {
     "name": "stderr",
     "output_type": "stream",
     "text": [
      "/opt/conda/lib/python3.6/site-packages/sklearn/naive_bayes.py:461: RuntimeWarning: divide by zero encountered in log\n",
      "  self.class_log_prior_ = (np.log(self.class_count_) -\n"
     ]
    },
    {
     "name": "stdout",
     "output_type": "stream",
     "text": [
      "[CV]  clf__estimator__alpha=0.1, tfidf__use_idf=False, vect__max_df=1.0, total=   9.0s\n"
     ]
    },
    {
     "name": "stderr",
     "output_type": "stream",
     "text": [
      "[Parallel(n_jobs=1)]: Done  36 out of  36 | elapsed:  8.8min finished\n",
      "/opt/conda/lib/python3.6/site-packages/sklearn/naive_bayes.py:461: RuntimeWarning: divide by zero encountered in log\n",
      "  self.class_log_prior_ = (np.log(self.class_count_) -\n"
     ]
    },
    {
     "name": "stdout",
     "output_type": "stream",
     "text": [
      "\n",
      "                         precision    recall  f1-score   support\n",
      "\n",
      "               related       0.84      0.94      0.89      5001\n",
      "               request       0.71      0.61      0.66      1093\n",
      "                 offer       0.00      0.00      0.00        32\n",
      "           aid_related       0.71      0.67      0.69      2700\n",
      "          medical_help       0.60      0.16      0.25       532\n",
      "      medical_products       0.65      0.20      0.31       345\n",
      "     search_and_rescue       0.40      0.01      0.02       165\n",
      "              security       0.00      0.00      0.00       127\n",
      "              military       0.54      0.24      0.34       197\n",
      "           child_alone       0.00      0.00      0.00         0\n",
      "                 water       0.66      0.16      0.26       408\n",
      "                  food       0.75      0.37      0.49       723\n",
      "               shelter       0.71      0.16      0.26       590\n",
      "              clothing       0.59      0.27      0.37        95\n",
      "                 money       0.57      0.06      0.11       138\n",
      "        missing_people       0.33      0.01      0.03        74\n",
      "              refugees       0.10      0.00      0.01       223\n",
      "                 death       0.79      0.24      0.37       301\n",
      "             other_aid       0.34      0.02      0.03       865\n",
      "infrastructure_related       0.32      0.02      0.04       410\n",
      "             transport       0.73      0.10      0.18       288\n",
      "             buildings       0.62      0.07      0.13       331\n",
      "           electricity       0.64      0.05      0.09       144\n",
      "                 tools       0.00      0.00      0.00        46\n",
      "             hospitals       0.33      0.02      0.03        60\n",
      "                 shops       0.00      0.00      0.00        29\n",
      "           aid_centers       0.00      0.00      0.00        77\n",
      "  other_infrastructure       0.26      0.02      0.03       277\n",
      "       weather_related       0.76      0.57      0.65      1816\n",
      "                floods       0.74      0.32      0.45       546\n",
      "                 storm       0.67      0.32      0.44       596\n",
      "                  fire       0.33      0.01      0.03        67\n",
      "            earthquake       0.85      0.41      0.55       630\n",
      "                  cold       0.73      0.07      0.12       122\n",
      "         other_weather       0.34      0.03      0.06       319\n",
      "         direct_report       0.63      0.52      0.57      1265\n",
      "\n",
      "           avg / total       0.68      0.50      0.54     20632\n",
      "\n"
     ]
    },
    {
     "name": "stderr",
     "output_type": "stream",
     "text": [
      "/opt/conda/lib/python3.6/site-packages/sklearn/metrics/classification.py:1135: UndefinedMetricWarning: Precision and F-score are ill-defined and being set to 0.0 in labels with no predicted samples.\n",
      "  'precision', 'predicted', average, warn_for)\n",
      "/opt/conda/lib/python3.6/site-packages/sklearn/metrics/classification.py:1137: UndefinedMetricWarning: Recall and F-score are ill-defined and being set to 0.0 in labels with no true samples.\n",
      "  'recall', 'true', average, warn_for)\n"
     ]
    }
   ],
   "source": [
    "from sklearn.naive_bayes import MultinomialNB\n",
    "# I try to use MultinomialNB as classifier, because it is also used in other sources like [R1] \n",
    "\n",
    "# create advanced pipeline\n",
    "adv_pipeline = Pipeline([\n",
    "    ('vect', CountVectorizer(tokenizer=tokenize)),\n",
    "    ('tfidf', TfidfTransformer()),\n",
    "    ('clf', MultiOutputClassifier(MultinomialNB()))\n",
    "])\n",
    "\n",
    "# set advanced model parameter\n",
    "adv_parameters =  {\n",
    "        'vect__max_df': (0.5, 1.0),\n",
    "        'tfidf__use_idf': (True, False),\n",
    "        'clf__estimator__alpha': [0.01, 0.05, 0.1]\n",
    "        }\n",
    "\n",
    "# use GridSearchCV for finding optimal parameters\n",
    "adv_model = GridSearchCV(adv_pipeline, param_grid=adv_parameters, verbose=2)\n",
    "\n",
    "# fit model\n",
    "adv_model.fit(X_train, y_train)\n",
    "\n",
    "# predict results\n",
    "y_pred_adv = adv_model.predict(X_test)\n",
    "\n",
    "# print report using sklearn classification_report\n",
    "print('\\n', classification_report(y_test, y_pred_adv, target_names=Y.columns.values))"
   ]
  },
  {
   "cell_type": "markdown",
   "metadata": {},
   "source": [
    "### 9. Export your model as a pickle file"
   ]
  },
  {
   "cell_type": "code",
   "execution_count": 11,
   "metadata": {},
   "outputs": [],
   "source": [
    "import pickle\n",
    "## pickle the models\n",
    "# save pipeline model\n",
    "pickle.dump(pipeline, open('DisasterResponse_model_pipeline.pkl', 'wb'))\n",
    "# save optimized GridSearchCV model\n",
    "pickle.dump(cv, open('DisasterResponse_model_cv.pkl', 'wb'))\n",
    "# save advanced model\n",
    "pickle.dump(cv, open('DisasterResponse_model_adv.pkl', 'wb'))"
   ]
  },
  {
   "cell_type": "markdown",
   "metadata": {},
   "source": [
    "### 10. Use this notebook to complete `train.py`\n",
    "Use the template file attached in the Resources folder to write a script that runs the steps above to create a database and export a model based on a new dataset specified by the user."
   ]
  },
  {
   "cell_type": "code",
   "execution_count": 12,
   "metadata": {},
   "outputs": [
    {
     "name": "stdout",
     "output_type": "stream",
     "text": [
      "[nltk_data] Downloading package punkt to /root/nltk_data...\n",
      "[nltk_data]   Package punkt is already up-to-date!\n",
      "[nltk_data] Downloading package wordnet to /root/nltk_data...\n",
      "[nltk_data]   Package wordnet is already up-to-date!\n",
      "Loading data...\n",
      "    DATABASE: DisasterResponse_test.db\n",
      "Building model...\n",
      "Training model...\n",
      "Fitting 3 folds for each of 2 candidates, totalling 6 fits\n",
      "[CV] tfidf__use_idf=True .............................................\n",
      "[CV] ... tfidf__use_idf=True, score=0.22614790444857674, total=  48.3s\n",
      "[CV] tfidf__use_idf=True .............................................\n"
     ]
    },
    {
     "name": "stderr",
     "output_type": "stream",
     "text": [
      "[Parallel(n_jobs=1)]: Done   1 out of   1 | elapsed:   57.4s remaining:    0.0s\n"
     ]
    },
    {
     "name": "stdout",
     "output_type": "stream",
     "text": [
      "[CV] ... tfidf__use_idf=True, score=0.23001001287369474, total=  47.6s\n",
      "[CV] tfidf__use_idf=True .............................................\n"
     ]
    },
    {
     "name": "stderr",
     "output_type": "stream",
     "text": [
      "[Parallel(n_jobs=1)]: Done   2 out of   2 | elapsed:  1.9min remaining:    0.0s\n"
     ]
    },
    {
     "name": "stdout",
     "output_type": "stream",
     "text": [
      "[CV] ... tfidf__use_idf=True, score=0.22675250357653792, total=  46.0s\n",
      "[CV] tfidf__use_idf=False ............................................\n"
     ]
    },
    {
     "name": "stderr",
     "output_type": "stream",
     "text": [
      "[Parallel(n_jobs=1)]: Done   3 out of   3 | elapsed:  2.8min remaining:    0.0s\n"
     ]
    },
    {
     "name": "stdout",
     "output_type": "stream",
     "text": [
      "[CV] .. tfidf__use_idf=False, score=0.22743527392361607, total=  48.8s\n",
      "[CV] tfidf__use_idf=False ............................................\n"
     ]
    },
    {
     "name": "stderr",
     "output_type": "stream",
     "text": [
      "[Parallel(n_jobs=1)]: Done   4 out of   4 | elapsed:  3.8min remaining:    0.0s\n"
     ]
    },
    {
     "name": "stdout",
     "output_type": "stream",
     "text": [
      "[CV] .. tfidf__use_idf=False, score=0.23644686024889144, total=  49.2s\n",
      "[CV] tfidf__use_idf=False ............................................\n"
     ]
    },
    {
     "name": "stderr",
     "output_type": "stream",
     "text": [
      "[Parallel(n_jobs=1)]: Done   5 out of   5 | elapsed:  4.8min remaining:    0.0s\n"
     ]
    },
    {
     "name": "stdout",
     "output_type": "stream",
     "text": [
      "[CV] .. tfidf__use_idf=False, score=0.22088698140200286, total=  48.1s\n"
     ]
    },
    {
     "name": "stderr",
     "output_type": "stream",
     "text": [
      "[Parallel(n_jobs=1)]: Done   6 out of   6 | elapsed:  5.7min remaining:    0.0s\n",
      "[Parallel(n_jobs=1)]: Done   6 out of   6 | elapsed:  5.7min finished\n"
     ]
    },
    {
     "name": "stdout",
     "output_type": "stream",
     "text": [
      "Evaluating model...\n"
     ]
    },
    {
     "name": "stderr",
     "output_type": "stream",
     "text": [
      "/opt/conda/lib/python3.6/site-packages/sklearn/metrics/classification.py:1135: UndefinedMetricWarning: Precision and F-score are ill-defined and being set to 0.0 in labels with no predicted samples.\n",
      "  'precision', 'predicted', average, warn_for)\n",
      "/opt/conda/lib/python3.6/site-packages/sklearn/metrics/classification.py:1137: UndefinedMetricWarning: Recall and F-score are ill-defined and being set to 0.0 in labels with no true samples.\n",
      "  'recall', 'true', average, warn_for)\n"
     ]
    },
    {
     "name": "stdout",
     "output_type": "stream",
     "text": [
      "\n",
      "                         precision    recall  f1-score   support\n",
      "\n",
      "               related       0.83      0.93      0.88      3999\n",
      "               request       0.83      0.38      0.53       869\n",
      "                 offer       0.00      0.00      0.00        21\n",
      "           aid_related       0.75      0.53      0.62      2169\n",
      "          medical_help       0.44      0.06      0.10       401\n",
      "      medical_products       0.65      0.05      0.10       249\n",
      "     search_and_rescue       0.33      0.02      0.03       132\n",
      "              security       0.00      0.00      0.00        91\n",
      "              military       0.65      0.09      0.16       169\n",
      "           child_alone       0.00      0.00      0.00         0\n",
      "                 water       0.92      0.17      0.29       332\n",
      "                  food       0.86      0.31      0.46       577\n",
      "               shelter       0.80      0.16      0.26       443\n",
      "              clothing       0.82      0.11      0.20        79\n",
      "                 money       0.86      0.05      0.10       118\n",
      "        missing_people       0.00      0.00      0.00        57\n",
      "              refugees       0.00      0.00      0.00       180\n",
      "                 death       0.86      0.08      0.14       247\n",
      "             other_aid       0.48      0.04      0.07       671\n",
      "infrastructure_related       0.33      0.00      0.01       349\n",
      "             transport       0.73      0.11      0.19       223\n",
      "             buildings       0.78      0.07      0.12       268\n",
      "           electricity       0.50      0.05      0.09        98\n",
      "                 tools       0.00      0.00      0.00        33\n",
      "             hospitals       0.00      0.00      0.00        59\n",
      "                 shops       0.00      0.00      0.00        22\n",
      "           aid_centers       0.00      0.00      0.00        69\n",
      "  other_infrastructure       0.67      0.01      0.02       236\n",
      "       weather_related       0.82      0.53      0.64      1413\n",
      "                floods       0.89      0.23      0.36       433\n",
      "                 storm       0.75      0.32      0.45       462\n",
      "                  fire       0.00      0.00      0.00        58\n",
      "            earthquake       0.89      0.57      0.70       449\n",
      "                  cold       0.25      0.01      0.02       107\n",
      "         other_weather       0.36      0.03      0.06       258\n",
      "         direct_report       0.82      0.30      0.44      1010\n",
      "\n",
      "           avg / total       0.73      0.44      0.50     16351\n",
      "\n",
      "Saving model...\n",
      "    MODEL: DisasterResponse_model_test.pkl\n",
      "Trained model saved!\n"
     ]
    }
   ],
   "source": [
    "import sys\n",
    "import pandas as pd\n",
    "from sqlalchemy import create_engine\n",
    "import re\n",
    "\n",
    "import nltk\n",
    "nltk.download(['punkt', 'wordnet'])\n",
    "from nltk.tokenize import word_tokenize\n",
    "from nltk.stem import WordNetLemmatizer\n",
    "from sklearn.pipeline import Pipeline\n",
    "from sklearn.model_selection import train_test_split\n",
    "from sklearn.multioutput import MultiOutputClassifier\n",
    "from sklearn.ensemble import RandomForestClassifier\n",
    "from sklearn.feature_extraction.text import CountVectorizer, TfidfTransformer\n",
    "from sklearn.metrics import classification_report\n",
    "from sklearn.model_selection import GridSearchCV\n",
    "import pickle\n",
    "\n",
    "def load_data(database_filepath):\n",
    "    \"\"\"Load the data from database\n",
    "\n",
    "    Parameters:\n",
    "    database_filepath: sqllite file containing the clean dataset, the file is created by process_data.py\n",
    "\n",
    "    Returns:\n",
    "    X: input data containing sent messages\n",
    "    Y: categories to be predicted\n",
    "    category_names: names of the categories saves in variable Y\n",
    "    \"\"\"\n",
    "    # load data from database\n",
    "    database_filepath = 'sqlite:///{}'.format(database_filepath)\n",
    "    engine = create_engine(database_filepath)\n",
    "    # read data using pandas read_sql\n",
    "    df = pd.read_sql(\"SELECT * FROM DisasterResponseMessages\", engine)\n",
    "    X = df['message']\n",
    "    Y = df.drop(['id', 'message', 'original', 'genre'], axis = 1)\n",
    "    # get category names which are the columns of Y\n",
    "    category_names = Y.columns.values\n",
    "    # return values\n",
    "    return X, Y, category_names\n",
    "\n",
    "def tokenize(text):\n",
    "    \"\"\"Tokenize input text\n",
    "\n",
    "    Parameters:\n",
    "    text: input text\n",
    "\n",
    "    Returns:\n",
    "    clean_tokens: list containing the normalized, tokenized and lemmazied words\n",
    "    \"\"\"\n",
    "    # remove punctuation and use lowercase letters\n",
    "    text = re.sub(r\"[^a-zA-Z0-9]\", \" \", text.lower())\n",
    "    # tokentize words\n",
    "    tokens = word_tokenize(text)\n",
    "    # create word lemmatizer\n",
    "    lemmatizer = WordNetLemmatizer()\n",
    "    \n",
    "    # lemmatize words\n",
    "    clean_tokens = []\n",
    "    for tok in tokens:\n",
    "        clean_tok = lemmatizer.lemmatize(tok).strip()\n",
    "        clean_tokens.append(clean_tok)\n",
    "\n",
    "    return clean_tokens\n",
    "\n",
    "\n",
    "def build_model():\n",
    "    \"\"\"Build machine learning model using pipeline and GridSearch\n",
    "\n",
    "    Returns:\n",
    "    model: machine learning model with best parameters using GridSearch\n",
    "    \"\"\"\n",
    "    # create pipeline\n",
    "    pipeline = Pipeline([\n",
    "    ('vect', CountVectorizer(tokenizer=tokenize)),\n",
    "    ('tfidf', TfidfTransformer()),\n",
    "    ('clf', MultiOutputClassifier(RandomForestClassifier()))\n",
    "    ])\n",
    "    # parameter dictionary\n",
    "    parameters = {'tfidf__use_idf': (True, False)}# for faster execution just use one parameter for the test\n",
    "#    parameters =  {\n",
    "#        'vect__max_df': (0.5, 1.0),\n",
    "#        'tfidf__use_idf': (True, False),\n",
    "#        'clf__estimator__max_features': ['auto', 'sqrt'],\n",
    "#        'clf__estimator__max_depth': [5,10, 20,None]\n",
    "#        }\n",
    "    # use GridSearchCV for finding optimal parameters\n",
    "    model = GridSearchCV(pipeline, param_grid=parameters, verbose=10)\n",
    "    # return model\n",
    "    return model\n",
    "\n",
    "\n",
    "def evaluate_model(model, X_test, Y_test, category_names):\n",
    "    \"\"\"Evaluate the machine learning model using X_test, Y_test and category_names\n",
    "\n",
    "    Parameters:\n",
    "    model: machine learning model with best parameters using GridSearch\n",
    "    X_test: X values of the test subset\n",
    "    Y_test: Y values of the test subset\n",
    "    category_names: category names\n",
    "    \"\"\"\n",
    "    # predict results\n",
    "    Y_pred = model.predict(X_test)\n",
    "\n",
    "    # print report using sklearn classification_report\n",
    "    print('\\n', classification_report(Y_test, Y_pred, target_names=category_names))\n",
    "\n",
    "\n",
    "def save_model(model, model_filepath):\n",
    "    \"\"\"Save the machine learning model to a pickle file\n",
    "\n",
    "    Parameters:\n",
    "    model: machine learning model with best parameters using GridSearch\n",
    "    model_filepath: filename the model is saved to\n",
    "    \"\"\"\n",
    "    pickle.dump(model, open(model_filepath, 'wb'))\n",
    "\n",
    "\n",
    "\n",
    "database_filepath = 'DisasterResponse_test.db'\n",
    "model_filepath = 'DisasterResponse_model_test.pkl'\n",
    "\n",
    "print('Loading data...\\n    DATABASE: {}'.format(database_filepath))\n",
    "X, Y, category_names = load_data(database_filepath)\n",
    "X_train, X_test, Y_train, Y_test = train_test_split(X, Y, test_size=0.2)\n",
    "        \n",
    "print('Building model...')\n",
    "model = build_model()\n",
    "        \n",
    "print('Training model...')\n",
    "model.fit(X_train, Y_train)\n",
    "        \n",
    "print('Evaluating model...')\n",
    "evaluate_model(model, X_test, Y_test, category_names)\n",
    "\n",
    "print('Saving model...\\n    MODEL: {}'.format(model_filepath))\n",
    "save_model(model, model_filepath)\n",
    "\n",
    "print('Trained model saved!')\n"
   ]
  },
  {
   "cell_type": "markdown",
   "metadata": {},
   "source": [
    "# References\n",
    "[R1] Working with text - scikitlearn: https://scikit-learn.org/stable/tutorial/text_analytics/working_with_text_data.html <br>"
   ]
  }
 ],
 "metadata": {
  "kernelspec": {
   "display_name": "Python 3",
   "language": "python",
   "name": "python3"
  },
  "language_info": {
   "codemirror_mode": {
    "name": "ipython",
    "version": 3
   },
   "file_extension": ".py",
   "mimetype": "text/x-python",
   "name": "python",
   "nbconvert_exporter": "python",
   "pygments_lexer": "ipython3",
   "version": "3.6.3"
  }
 },
 "nbformat": 4,
 "nbformat_minor": 2
}
